{
 "cells": [
  {
   "cell_type": "markdown",
   "metadata": {},
   "source": [
    "### Imports"
   ]
  },
  {
   "cell_type": "code",
   "execution_count": null,
   "metadata": {},
   "outputs": [],
   "source": [
    "%load_ext autoreload\n",
    "%autoreload 2"
   ]
  },
  {
   "cell_type": "code",
   "execution_count": 45,
   "metadata": {},
   "outputs": [],
   "source": [
    "import json\n",
    "import re\n",
    "from bs4 import BeautifulSoup\n",
    "import os\n",
    "import pandas as pd\n",
    "from dictionary_construction.const import FIX_POS"
   ]
  },
  {
   "cell_type": "markdown",
   "metadata": {},
   "source": [
    "### Path to HTML files"
   ]
  },
  {
   "cell_type": "code",
   "execution_count": 46,
   "metadata": {},
   "outputs": [],
   "source": [
    "path_to_html = r'grammar_pages'\n",
    "pages_list = os.listdir(path_to_html)"
   ]
  },
  {
   "cell_type": "markdown",
   "metadata": {},
   "source": [
    "### Functions"
   ]
  },
  {
   "cell_type": "code",
   "execution_count": 13,
   "metadata": {},
   "outputs": [],
   "source": [
    "def bunpro_adj_options(page_list: list) -> set:\n",
    "    adj_options = set()\n",
    "    for page in page_list:\n",
    "        soup = BeautifulSoup(open(os.path.join(path_to_html, page), 'r', encoding='utf-8'), 'html.parser')\n",
    "        title = soup.select('ul h4')\n",
    "        labels = soup.select('ul > li > p')\n",
    "        for t, l in zip(title, labels):\n",
    "            if t.get_text(strip=True) == \"Part of Speech\":\n",
    "                adj_options.add(l.get_text(strip=True))\n",
    "    return sorted(adj_options)"
   ]
  },
  {
   "cell_type": "code",
   "execution_count": 14,
   "metadata": {},
   "outputs": [],
   "source": [
    "def determaine_reading(soup: BeautifulSoup) -> str:\n",
    "    try:\n",
    "        reading = soup.select_one('h1 rt').get_text(strip=True)\n",
    "    except:\n",
    "        reading = soup.select_one('h1').get_text(strip=True)\n",
    "    return reading"
   ]
  },
  {
   "cell_type": "code",
   "execution_count": 33,
   "metadata": {},
   "outputs": [],
   "source": [
    "def extract_explination(soup: BeautifulSoup) -> str:\n",
    "    main_div = soup.find('div', class_='bp-ddw bp-writeup-body prose')\n",
    "\n",
    "    # Remove example sentence sections by specifying the classes you want to skip\n",
    "    if main_div is None:\n",
    "        return None\n",
    "    for example_section in main_div.find_all(class_=['writeup-example--japanese', 'writeup-example--english']):\n",
    "        example_section.decompose()  # This removes the element from the tree\n",
    "\n",
    "    # Extract the remaining text\n",
    "    explination = main_div.get_text(separator=' ', strip=True)\n",
    "    return explination"
   ]
  },
  {
   "cell_type": "code",
   "execution_count": 16,
   "metadata": {},
   "outputs": [],
   "source": [
    "def determine_pos(soup: BeautifulSoup) -> str:\n",
    "    title = soup.select('ul h4')\n",
    "    labels = soup.select('ul > li > p')\n",
    "    for t, l in zip(title, labels):\n",
    "        if t.get_text(strip=True) == \"Part of Speech\":\n",
    "            result = l.get_text(strip=True)\n",
    "            result = FIX_POS.get(result)\n",
    "            if result:\n",
    "                return result\n",
    "            else:\n",
    "                raise ValueError(f\"Unknown POS: {result}\")\n",
    "    return \"Unknown\""
   ]
  },
  {
   "cell_type": "code",
   "execution_count": 17,
   "metadata": {},
   "outputs": [],
   "source": [
    "def JLPT_level(soup: BeautifulSoup) -> str:\n",
    "    title = soup.find('title').get_text(strip=True)\n",
    "    # Extract the JLPT level from the title\n",
    "    jlpt = title.split('JLPT')[1].strip(') | Bunpro')\n",
    "    if jlpt not in ['N5', 'N4', 'N3', 'N2', 'N1', 'N0']:\n",
    "        raise ValueError(f\"Unknown JLPT level: {jlpt}\")\n",
    "    return jlpt"
   ]
  },
  {
   "cell_type": "code",
   "execution_count": 18,
   "metadata": {},
   "outputs": [],
   "source": [
    "def remove_latin_chars(text):\n",
    "    # Regular expression to match Latin characters (a-z, A-Z)\n",
    "    return re.sub(r'[a-zA-Z,]', '', text)"
   ]
  },
  {
   "cell_type": "code",
   "execution_count": 19,
   "metadata": {},
   "outputs": [],
   "source": [
    "def contains_kanji(text):\n",
    "    # Regular expression for Kanji (CJK Unified Ideographs)\n",
    "    kanji_pattern = re.compile(r'[\\u4E00-\\u9FFF]')\n",
    "    return bool(kanji_pattern.search(str(text)))  # Convert text to string in case of NaN"
   ]
  },
  {
   "cell_type": "code",
   "execution_count": 20,
   "metadata": {},
   "outputs": [],
   "source": [
    "def compose_entry(subject, reading, part_of_speech, definition, explanation, matchup=10, jlpt=\"N5\") -> str:\n",
    "    data = [\n",
    "        subject,  # Kanji\n",
    "        reading,   # Kana\n",
    "        part_of_speech,    # Part of speech 1\n",
    "        part_of_speech,    # Part of speech 2\n",
    "        matchup, \n",
    "        [\n",
    "            {\"type\": \"structured-content\", \"content\": [\n",
    "                \"【 Meaning 】\",\n",
    "                {\n",
    "                    \"tag\": \"div\",\n",
    "                    \"style\": {\"marginLeft\": 1},\n",
    "                    \"content\": definition\n",
    "                },\n",
    "                \"【 Explination 】\",\n",
    "                {\n",
    "                    \"tag\": \"div\",\n",
    "                    \"style\": {\"marginLeft\": 1},\n",
    "                    \"content\": explanation\n",
    "                },\n",
    "                \"【 Example sentences 】\",\n",
    "                {\n",
    "                    \"tag\": \"ol\",\n",
    "                    \"content\": [\n",
    "                        {\"tag\": \"li\", \"style\": {\"listStyleType\": \"'①'\"}, \"content\": \"例文 1\\nSentence 1\"},\n",
    "                        {\"tag\": \"li\", \"style\": {\"listStyleType\": \"'②'\"}, \"content\": \"Sentence 2\"}\n",
    "                    ]\n",
    "                }\n",
    "            ]}\n",
    "        ],\n",
    "        1,  # Some boolean flag\n",
    "        jlpt  # JLPT Level\n",
    "    ]\n",
    "    return data"
   ]
  },
  {
   "cell_type": "code",
   "execution_count": 21,
   "metadata": {},
   "outputs": [],
   "source": [
    "def split_and_duplicate_rows(row):\n",
    "    # Split the 'subject' column by the '・' character\n",
    "    splits = row['subject'].split('・')\n",
    "    # Duplicate the row for each split\n",
    "    return pd.DataFrame({\n",
    "        'subject': splits,\n",
    "        'part_of_speech': [row['part_of_speech']] * len(splits),\n",
    "        'definition': [row['definition']] * len(splits),\n",
    "        'explanation': [row['explanation']] * len(splits),\n",
    "        'JLPT': [row['JLPT']] * len(splits),\n",
    "        'contains_kanji': [row['contains_kanji']] * len(splits)\n",
    "    })"
   ]
  },
  {
   "cell_type": "markdown",
   "metadata": {},
   "source": [
    "Used to create a mapping from bunpro to yomichan POS. Acessing all the pages takes a while so the results are saved in a dictionary in const.py"
   ]
  },
  {
   "cell_type": "code",
   "execution_count": 24,
   "metadata": {},
   "outputs": [],
   "source": [
    "# # Used to create a mapping from bunpro to yomichan POS\n",
    "# # results are saved in a dictionary in const.py\n",
    "# bun_opt = bunpro_adj_options(pages_list)\n",
    "# yomi_pos = ['adj-na','adj-na', 'adv', 'aux-v', 'prt', 'exp', 'adj-na', 'n' , 'prt', 'pn', 'v-unspec']\n",
    "# fix_pos = {key: value for key, value in zip(bun_opt, yomi_pos)}\n",
    "# print(fix_pos)\n",
    "# assert len(bun_opt) == len(yomi_pos), \"Lengths of bunpro and yomichan POS lists are not equal\""
   ]
  },
  {
   "cell_type": "markdown",
   "metadata": {},
   "source": [
    "### Pick an exmple page to find location of information with b4s"
   ]
  },
  {
   "cell_type": "code",
   "execution_count": 25,
   "metadata": {},
   "outputs": [
    {
     "name": "stdout",
     "output_type": "stream",
     "text": [
      "876\n"
     ]
    }
   ],
   "source": [
    "page_of_interest = '%E3%81%8B%E3%81%AE%E3%82%88%E3%81%86%E3%81%A0.html'\n",
    "index = 0\n",
    "for i, page in enumerate(pages_list):\n",
    "    if page == page_of_interest:\n",
    "        index = i\n",
    "        break\n",
    "print(index)"
   ]
  },
  {
   "cell_type": "code",
   "execution_count": 26,
   "metadata": {},
   "outputs": [],
   "source": [
    "# Read page with BeautifulSoup\n",
    "soup = BeautifulSoup(open(os.path.join(path_to_html, page_of_interest), 'r', encoding='utf-8'), 'html.parser')"
   ]
  },
  {
   "cell_type": "code",
   "execution_count": 27,
   "metadata": {},
   "outputs": [
    {
     "data": {
      "text/plain": [
       "'https://bunpro.jp/grammar_points/-%25E3%2582%2593%25E3%2581%25A7%25E3%2581%2599-%25E3%2581%25AE%25E3%2581%25A7%25E3%2581%2599'"
      ]
     },
     "execution_count": 27,
     "metadata": {},
     "output_type": "execute_result"
    }
   ],
   "source": [
    "# Extract URL to link back to the original page\n",
    "url = soup.select_one('head > link[rel=\"canonical\"]')['href']\n",
    "url"
   ]
  },
  {
   "cell_type": "code",
   "execution_count": 28,
   "metadata": {},
   "outputs": [
    {
     "name": "stdout",
     "output_type": "stream",
     "text": [
      "んだ・んです\n"
     ]
    }
   ],
   "source": [
    "# One way to find the grammar topic, might not be the best way\n",
    "subject = soup.find('h1').get_text(strip=True)\n",
    "print(subject)"
   ]
  },
  {
   "cell_type": "code",
   "execution_count": 29,
   "metadata": {},
   "outputs": [
    {
     "name": "stdout",
     "output_type": "stream",
     "text": [
      "A simple definition of the grammar point is: Explanatory, Emphasis, The fact is\n",
      "The explination of the grammar point is: のです is a construction with several different forms, each meaning roughly the same thing. This expression behaves similarly to だ and です by themselves (asserting that something is true). However, the addition of の strengthens the relationship being highlighted. Due to this, it will come across a bit like 'it is a fact that (A)' in English. In these sentences, we can think of the ん , or の as simply adding emphasis to the statement. Due to の adding emphasis, this expression will be heard very frequently in explanations. Caution There is no real difference between ん and の . Only の is considered 'correct Japanese', but ん evolved to make things easier to say. ん is the most common form in spoken Japanese, and the use of の could be considered a bit formal, or 'stiff'. While both the だ and です forms are equally as natural, only the です form will be used if adding か to the end ～んです か . This construction shows that the speaker is looking for an explanation about something.\n"
     ]
    }
   ],
   "source": [
    "simple_def = soup.select_one('p.line-clamp-1').get_text(strip=True)\n",
    "print(f\"A simple definition of the grammar point is: {simple_def}\")\n",
    "explination = extract_explination(soup)\n",
    "print(f\"The explination of the grammar point is: {explination}\")"
   ]
  },
  {
   "cell_type": "markdown",
   "metadata": {},
   "source": [
    "Find example sentances"
   ]
  },
  {
   "cell_type": "code",
   "execution_count": 77,
   "metadata": {},
   "outputs": [],
   "source": [
    "example_sentances = soup.find_all(id=re.compile(r'^study-question-\\d+$'))"
   ]
  },
  {
   "cell_type": "code",
   "execution_count": 84,
   "metadata": {},
   "outputs": [
    {
     "data": {
      "text/plain": [
       "[<div class=\"not-prose relative my-0 block overflow-hidden rounded border bg-primary-bg p-16 align-top sm:flex sm:items-center sm:justify-between sm:gap-4 sm:p-24 border-primary-bg\" id=\"study-question-7492\">\n",
       " <ul class=\"relative z-1 hidden sm:flex sm:items-center sm:gap-4\">\n",
       " <button class=\"block transition-opacity text-primary-accent\" title=\"Play audio\">\n",
       " <div class=\"bp-hover-bg__child rounded p-6\">\n",
       " <div class=\"relative\">\n",
       " <span aria-hidden=\"true\" class=\"bp-skeleton block undefined\" style=\"width:24px;height:24px\">\n",
       " </span>\n",
       " </div>\n",
       " </div>\n",
       " </button>\n",
       " </ul>\n",
       " <div class=\"relative z-1 flex flex-grow flex-col items-center justify-center gap-4 text-center\">\n",
       " <p class=\"bp-ddw prose text-large md:text-subtitle\">\n",
       "               その\n",
       "               <ruby>\n",
       "                作品\n",
       "                <rp>\n",
       "                 (\n",
       "                </rp>\n",
       " <rt>\n",
       "                 さくひん\n",
       "                </rt>\n",
       " <rp>\n",
       "                 )\n",
       "                </rp>\n",
       " </ruby>\n",
       "               は、あの\n",
       "               <ruby>\n",
       "                有名\n",
       "                <rp>\n",
       "                 (\n",
       "                </rp>\n",
       " <rt>\n",
       "                 ゆうめい\n",
       "                </rt>\n",
       " <rp>\n",
       "                 )\n",
       "                </rp>\n",
       " </ruby>\n",
       "               な\n",
       "               <ruby>\n",
       "                作品\n",
       "                <rp>\n",
       "                 (\n",
       "                </rp>\n",
       " <rt>\n",
       "                 さくひん\n",
       "                </rt>\n",
       " <rp>\n",
       "                 )\n",
       "                </rp>\n",
       " </ruby>\n",
       "               を\n",
       "               <ruby>\n",
       "                真似\n",
       "                <rp>\n",
       "                 (\n",
       "                </rp>\n",
       " <rt>\n",
       "                 まね\n",
       "                </rt>\n",
       " <rp>\n",
       "                 )\n",
       "                </rp>\n",
       " </ruby>\n",
       "               た\n",
       "               <span class=\"study-area-input\">\n",
       " <span class=\"text-primary-accent\">\n",
       "                 かのようです\n",
       "                </span>\n",
       " </span>\n",
       "               ね。\n",
       "              </p>\n",
       " <p class=\"bp-sdw undefined\">\n",
       "               That item looks\n",
       "               <strong>\n",
       "                as if it is\n",
       "               </strong>\n",
       "               imitating that other famous item.\n",
       "              </p>\n",
       " </div>\n",
       " <ul class=\"absolute bottom-0 right-0 z-1 flex items-stretch overflow-hidden rounded-tl text-detail\">\n",
       " <li class=\"block\" title=\"This sentence's translation has been verified.\">\n",
       " <button aria-haspopup=\"dialog\" class=\"flex items-center px-12 text-primary-fg pointer-events-none bg-correct bg-opacity-20 py-4\" disabled=\"\">\n",
       " <span aria-hidden=\"true\" class=\"bp-skeleton block undefined\" style=\"width:1.2em;height:1.2em\">\n",
       " </span>\n",
       " </button>\n",
       " </li>\n",
       " </ul>\n",
       " <div class=\"z-0 absolute -right-16 bottom-24 text-tertiary-fg transition-opacity opacity-0 pointer-events-none\" style=\"transform:rotate(-30deg)\" title=\"This sentence has a Ghost\">\n",
       " <span aria-hidden=\"true\" class=\"bp-skeleton block undefined\" style=\"width:3rem;height:3rem\">\n",
       " </span>\n",
       " </div>\n",
       " <ul class=\"mt-4 flex items-center justify-center gap-4 text-primary-accent sm:hidden\">\n",
       " <button class=\"block transition-opacity text-primary-accent\" title=\"Play audio\">\n",
       " <div class=\"bp-hover-bg__child rounded p-6\">\n",
       " <div class=\"relative\">\n",
       " <span aria-hidden=\"true\" class=\"bp-skeleton block undefined\" style=\"width:24px;height:24px\">\n",
       " </span>\n",
       " </div>\n",
       " </div>\n",
       " </button>\n",
       " <li>\n",
       " <button aria-haspopup=\"menu\" aria-label=\"Launch actions tooltip\" class=\"block\" title=\"Launch actions tooltip\">\n",
       " <div class=\"bp-hover-bg__child rounded p-6\">\n",
       " <div class=\"relative\">\n",
       " <span aria-hidden=\"true\" class=\"bp-skeleton block undefined\" style=\"width:24px;height:24px\">\n",
       " </span>\n",
       " </div>\n",
       " </div>\n",
       " </button>\n",
       " </li>\n",
       " </ul>\n",
       " <ul class=\"relative z-1 hidden text-primary-accent sm:flex sm:items-center sm:gap-4\">\n",
       " <li>\n",
       " <button aria-haspopup=\"menu\" aria-label=\"Launch actions tooltip\" class=\"block\" title=\"Launch actions tooltip\">\n",
       " <div class=\"bp-hover-bg__child rounded p-6\">\n",
       " <div class=\"relative\">\n",
       " <span aria-hidden=\"true\" class=\"bp-skeleton block undefined\" style=\"width:24px;height:24px\">\n",
       " </span>\n",
       " </div>\n",
       " </div>\n",
       " </button>\n",
       " </li>\n",
       " </ul>\n",
       " </div>,\n",
       " <div class=\"not-prose relative my-0 block overflow-hidden rounded border bg-primary-bg p-16 align-top sm:flex sm:items-center sm:justify-between sm:gap-4 sm:p-24 border-primary-bg\" id=\"study-question-7484\">\n",
       " <ul class=\"relative z-1 hidden sm:flex sm:items-center sm:gap-4\">\n",
       " <button class=\"block transition-opacity text-primary-accent\" title=\"Play audio\">\n",
       " <div class=\"bp-hover-bg__child rounded p-6\">\n",
       " <div class=\"relative\">\n",
       " <span aria-hidden=\"true\" class=\"bp-skeleton block undefined\" style=\"width:24px;height:24px\">\n",
       " </span>\n",
       " </div>\n",
       " </div>\n",
       " </button>\n",
       " </ul>\n",
       " <div class=\"relative z-1 flex flex-grow flex-col items-center justify-center gap-4 text-center\">\n",
       " <p class=\"bp-ddw prose text-large md:text-subtitle\">\n",
       " <ruby>\n",
       "                彼\n",
       "                <rp>\n",
       "                 (\n",
       "                </rp>\n",
       " <rt>\n",
       "                 かれ\n",
       "                </rt>\n",
       " <rp>\n",
       "                 )\n",
       "                </rp>\n",
       " </ruby>\n",
       "               はまるでお\n",
       "               <ruby>\n",
       "                腹\n",
       "                <rp>\n",
       "                 (\n",
       "                </rp>\n",
       " <rt>\n",
       "                 なか\n",
       "                </rt>\n",
       " <rp>\n",
       "                 )\n",
       "                </rp>\n",
       " </ruby>\n",
       "               に\n",
       "               <ruby>\n",
       "                風船\n",
       "                <rp>\n",
       "                 (\n",
       "                </rp>\n",
       " <rt>\n",
       "                 ふうせん\n",
       "                </rt>\n",
       " <rp>\n",
       "                 )\n",
       "                </rp>\n",
       " </ruby>\n",
       "               を\n",
       "               <ruby>\n",
       "                入\n",
       "                <rp>\n",
       "                 (\n",
       "                </rp>\n",
       " <rt>\n",
       "                 い\n",
       "                </rt>\n",
       " <rp>\n",
       "                 )\n",
       "                </rp>\n",
       " </ruby>\n",
       "               れている\n",
       "               <span class=\"study-area-input\">\n",
       " <span class=\"text-primary-accent\">\n",
       "                 かのようだ\n",
       "                </span>\n",
       " </span>\n",
       "               。\n",
       "              </p>\n",
       " <p class=\"bp-sdw undefined\">\n",
       "               It is\n",
       "               <strong>\n",
       "                just as if he has\n",
       "               </strong>\n",
       "               a balloon in his belly.\n",
       "              </p>\n",
       " </div>\n",
       " <ul class=\"absolute bottom-0 right-0 z-1 flex items-stretch overflow-hidden rounded-tl text-detail\">\n",
       " <li class=\"block\" title=\"This sentence's translation has been verified.\">\n",
       " <button aria-haspopup=\"dialog\" class=\"flex items-center px-12 text-primary-fg pointer-events-none bg-correct bg-opacity-20 py-4\" disabled=\"\">\n",
       " <span aria-hidden=\"true\" class=\"bp-skeleton block undefined\" style=\"width:1.2em;height:1.2em\">\n",
       " </span>\n",
       " </button>\n",
       " </li>\n",
       " </ul>\n",
       " <div class=\"z-0 absolute -right-16 bottom-24 text-tertiary-fg transition-opacity opacity-0 pointer-events-none\" style=\"transform:rotate(-30deg)\" title=\"This sentence has a Ghost\">\n",
       " <span aria-hidden=\"true\" class=\"bp-skeleton block undefined\" style=\"width:3rem;height:3rem\">\n",
       " </span>\n",
       " </div>\n",
       " <ul class=\"mt-4 flex items-center justify-center gap-4 text-primary-accent sm:hidden\">\n",
       " <button class=\"block transition-opacity text-primary-accent\" title=\"Play audio\">\n",
       " <div class=\"bp-hover-bg__child rounded p-6\">\n",
       " <div class=\"relative\">\n",
       " <span aria-hidden=\"true\" class=\"bp-skeleton block undefined\" style=\"width:24px;height:24px\">\n",
       " </span>\n",
       " </div>\n",
       " </div>\n",
       " </button>\n",
       " <li>\n",
       " <button aria-haspopup=\"menu\" aria-label=\"Launch actions tooltip\" class=\"block\" title=\"Launch actions tooltip\">\n",
       " <div class=\"bp-hover-bg__child rounded p-6\">\n",
       " <div class=\"relative\">\n",
       " <span aria-hidden=\"true\" class=\"bp-skeleton block undefined\" style=\"width:24px;height:24px\">\n",
       " </span>\n",
       " </div>\n",
       " </div>\n",
       " </button>\n",
       " </li>\n",
       " </ul>\n",
       " <ul class=\"relative z-1 hidden text-primary-accent sm:flex sm:items-center sm:gap-4\">\n",
       " <li>\n",
       " <button aria-haspopup=\"menu\" aria-label=\"Launch actions tooltip\" class=\"block\" title=\"Launch actions tooltip\">\n",
       " <div class=\"bp-hover-bg__child rounded p-6\">\n",
       " <div class=\"relative\">\n",
       " <span aria-hidden=\"true\" class=\"bp-skeleton block undefined\" style=\"width:24px;height:24px\">\n",
       " </span>\n",
       " </div>\n",
       " </div>\n",
       " </button>\n",
       " </li>\n",
       " </ul>\n",
       " </div>,\n",
       " <div class=\"not-prose relative my-0 block overflow-hidden rounded border bg-primary-bg p-16 align-top sm:flex sm:items-center sm:justify-between sm:gap-4 sm:p-24 border-primary-bg\" id=\"study-question-7486\">\n",
       " <ul class=\"relative z-1 hidden sm:flex sm:items-center sm:gap-4\">\n",
       " <button class=\"block transition-opacity text-primary-accent\" title=\"Play audio\">\n",
       " <div class=\"bp-hover-bg__child rounded p-6\">\n",
       " <div class=\"relative\">\n",
       " <span aria-hidden=\"true\" class=\"bp-skeleton block undefined\" style=\"width:24px;height:24px\">\n",
       " </span>\n",
       " </div>\n",
       " </div>\n",
       " </button>\n",
       " </ul>\n",
       " <div class=\"relative z-1 flex flex-grow flex-col items-center justify-center gap-4 text-center\">\n",
       " <p class=\"bp-ddw prose text-large md:text-subtitle\">\n",
       "               あの\n",
       "               <ruby>\n",
       "                会社\n",
       "                <rp>\n",
       "                 (\n",
       "                </rp>\n",
       " <rt>\n",
       "                 かいしゃ\n",
       "                </rt>\n",
       " <rp>\n",
       "                 )\n",
       "                </rp>\n",
       " </ruby>\n",
       "               は\n",
       "               <ruby>\n",
       "                営業\n",
       "                <rp>\n",
       "                 (\n",
       "                </rp>\n",
       " <rt>\n",
       "                 えいぎょう\n",
       "                </rt>\n",
       " <rp>\n",
       "                 )\n",
       "                </rp>\n",
       " </ruby>\n",
       " <ruby>\n",
       "                中\n",
       "                <rp>\n",
       "                 (\n",
       "                </rp>\n",
       " <rt>\n",
       "                 ちゅう\n",
       "                </rt>\n",
       " <rp>\n",
       "                 )\n",
       "                </rp>\n",
       " </ruby>\n",
       "               も\n",
       "               <ruby>\n",
       "                休業\n",
       "                <rp>\n",
       "                 (\n",
       "                </rp>\n",
       " <rt>\n",
       "                 きゅうぎょう\n",
       "                </rt>\n",
       " <rp>\n",
       "                 )\n",
       "                </rp>\n",
       " </ruby>\n",
       "               している\n",
       "               <span class=\"study-area-input\">\n",
       " <span class=\"text-primary-accent\">\n",
       "                 かのようだ\n",
       "                </span>\n",
       " </span>\n",
       "               。\n",
       "              </p>\n",
       " <p class=\"bp-sdw undefined\">\n",
       "               That company looks\n",
       "               <strong>\n",
       "                as if they are\n",
       "               </strong>\n",
       "               closed even during operation hours.\n",
       "              </p>\n",
       " </div>\n",
       " <ul class=\"absolute bottom-0 right-0 z-1 flex items-stretch overflow-hidden rounded-tl text-detail\">\n",
       " <li class=\"block\" title=\"This sentence's translation has been verified.\">\n",
       " <button aria-haspopup=\"dialog\" class=\"flex items-center px-12 text-primary-fg pointer-events-none bg-correct bg-opacity-20 py-4\" disabled=\"\">\n",
       " <span aria-hidden=\"true\" class=\"bp-skeleton block undefined\" style=\"width:1.2em;height:1.2em\">\n",
       " </span>\n",
       " </button>\n",
       " </li>\n",
       " </ul>\n",
       " <div class=\"z-0 absolute -right-16 bottom-24 text-tertiary-fg transition-opacity opacity-0 pointer-events-none\" style=\"transform:rotate(-30deg)\" title=\"This sentence has a Ghost\">\n",
       " <span aria-hidden=\"true\" class=\"bp-skeleton block undefined\" style=\"width:3rem;height:3rem\">\n",
       " </span>\n",
       " </div>\n",
       " <ul class=\"mt-4 flex items-center justify-center gap-4 text-primary-accent sm:hidden\">\n",
       " <button class=\"block transition-opacity text-primary-accent\" title=\"Play audio\">\n",
       " <div class=\"bp-hover-bg__child rounded p-6\">\n",
       " <div class=\"relative\">\n",
       " <span aria-hidden=\"true\" class=\"bp-skeleton block undefined\" style=\"width:24px;height:24px\">\n",
       " </span>\n",
       " </div>\n",
       " </div>\n",
       " </button>\n",
       " <li>\n",
       " <button aria-haspopup=\"menu\" aria-label=\"Launch actions tooltip\" class=\"block\" title=\"Launch actions tooltip\">\n",
       " <div class=\"bp-hover-bg__child rounded p-6\">\n",
       " <div class=\"relative\">\n",
       " <span aria-hidden=\"true\" class=\"bp-skeleton block undefined\" style=\"width:24px;height:24px\">\n",
       " </span>\n",
       " </div>\n",
       " </div>\n",
       " </button>\n",
       " </li>\n",
       " </ul>\n",
       " <ul class=\"relative z-1 hidden text-primary-accent sm:flex sm:items-center sm:gap-4\">\n",
       " <li>\n",
       " <button aria-haspopup=\"menu\" aria-label=\"Launch actions tooltip\" class=\"block\" title=\"Launch actions tooltip\">\n",
       " <div class=\"bp-hover-bg__child rounded p-6\">\n",
       " <div class=\"relative\">\n",
       " <span aria-hidden=\"true\" class=\"bp-skeleton block undefined\" style=\"width:24px;height:24px\">\n",
       " </span>\n",
       " </div>\n",
       " </div>\n",
       " </button>\n",
       " </li>\n",
       " </ul>\n",
       " </div>,\n",
       " <div class=\"not-prose relative my-0 block overflow-hidden rounded border bg-primary-bg p-16 align-top sm:flex sm:items-center sm:justify-between sm:gap-4 sm:p-24 border-primary-bg\" id=\"study-question-7487\">\n",
       " <ul class=\"relative z-1 hidden sm:flex sm:items-center sm:gap-4\">\n",
       " <button class=\"block transition-opacity text-primary-accent\" title=\"Play audio\">\n",
       " <div class=\"bp-hover-bg__child rounded p-6\">\n",
       " <div class=\"relative\">\n",
       " <span aria-hidden=\"true\" class=\"bp-skeleton block undefined\" style=\"width:24px;height:24px\">\n",
       " </span>\n",
       " </div>\n",
       " </div>\n",
       " </button>\n",
       " </ul>\n",
       " <div class=\"relative z-1 flex flex-grow flex-col items-center justify-center gap-4 text-center\">\n",
       " <p class=\"bp-ddw prose text-large md:text-subtitle\">\n",
       " <ruby>\n",
       "                彼\n",
       "                <rp>\n",
       "                 (\n",
       "                </rp>\n",
       " <rt>\n",
       "                 かれ\n",
       "                </rt>\n",
       " <rp>\n",
       "                 )\n",
       "                </rp>\n",
       " </ruby>\n",
       "               は\n",
       "               <ruby>\n",
       "                相当\n",
       "                <rp>\n",
       "                 (\n",
       "                </rp>\n",
       " <rt>\n",
       "                 そうとう\n",
       "                </rt>\n",
       " <rp>\n",
       "                 )\n",
       "                </rp>\n",
       " </ruby>\n",
       " <ruby>\n",
       "                目\n",
       "                <rp>\n",
       "                 (\n",
       "                </rp>\n",
       " <rt>\n",
       "                 め\n",
       "                </rt>\n",
       " <rp>\n",
       "                 )\n",
       "                </rp>\n",
       " </ruby>\n",
       "               がいい。\n",
       "               <ruby>\n",
       "                望遠鏡\n",
       "                <rp>\n",
       "                 (\n",
       "                </rp>\n",
       " <rt>\n",
       "                 ぼうえんきょう\n",
       "                </rt>\n",
       " <rp>\n",
       "                 )\n",
       "                </rp>\n",
       " </ruby>\n",
       "               を\n",
       "               <ruby>\n",
       "                使\n",
       "                <rp>\n",
       "                 (\n",
       "                </rp>\n",
       " <rt>\n",
       "                 つか\n",
       "                </rt>\n",
       " <rp>\n",
       "                 )\n",
       "                </rp>\n",
       " </ruby>\n",
       "               っている\n",
       "               <span class=\"study-area-input\">\n",
       " <span class=\"text-primary-accent\">\n",
       "                 かのようだ\n",
       "                </span>\n",
       " </span>\n",
       "               。\n",
       "              </p>\n",
       " <p class=\"bp-sdw undefined\">\n",
       "               He has extremely good eyesight. It is\n",
       "               <strong>\n",
       "                as if he is\n",
       "               </strong>\n",
       "               using a telescope.\n",
       "              </p>\n",
       " </div>\n",
       " <ul class=\"absolute bottom-0 right-0 z-1 flex items-stretch overflow-hidden rounded-tl text-detail\">\n",
       " <li class=\"block\" title=\"This sentence's translation has been verified.\">\n",
       " <button aria-haspopup=\"dialog\" class=\"flex items-center px-12 text-primary-fg pointer-events-none bg-correct bg-opacity-20 py-4\" disabled=\"\">\n",
       " <span aria-hidden=\"true\" class=\"bp-skeleton block undefined\" style=\"width:1.2em;height:1.2em\">\n",
       " </span>\n",
       " </button>\n",
       " </li>\n",
       " </ul>\n",
       " <div class=\"z-0 absolute -right-16 bottom-24 text-tertiary-fg transition-opacity opacity-0 pointer-events-none\" style=\"transform:rotate(-30deg)\" title=\"This sentence has a Ghost\">\n",
       " <span aria-hidden=\"true\" class=\"bp-skeleton block undefined\" style=\"width:3rem;height:3rem\">\n",
       " </span>\n",
       " </div>\n",
       " <ul class=\"mt-4 flex items-center justify-center gap-4 text-primary-accent sm:hidden\">\n",
       " <button class=\"block transition-opacity text-primary-accent\" title=\"Play audio\">\n",
       " <div class=\"bp-hover-bg__child rounded p-6\">\n",
       " <div class=\"relative\">\n",
       " <span aria-hidden=\"true\" class=\"bp-skeleton block undefined\" style=\"width:24px;height:24px\">\n",
       " </span>\n",
       " </div>\n",
       " </div>\n",
       " </button>\n",
       " <li>\n",
       " <button aria-haspopup=\"menu\" aria-label=\"Launch actions tooltip\" class=\"block\" title=\"Launch actions tooltip\">\n",
       " <div class=\"bp-hover-bg__child rounded p-6\">\n",
       " <div class=\"relative\">\n",
       " <span aria-hidden=\"true\" class=\"bp-skeleton block undefined\" style=\"width:24px;height:24px\">\n",
       " </span>\n",
       " </div>\n",
       " </div>\n",
       " </button>\n",
       " </li>\n",
       " </ul>\n",
       " <ul class=\"relative z-1 hidden text-primary-accent sm:flex sm:items-center sm:gap-4\">\n",
       " <li>\n",
       " <button aria-haspopup=\"menu\" aria-label=\"Launch actions tooltip\" class=\"block\" title=\"Launch actions tooltip\">\n",
       " <div class=\"bp-hover-bg__child rounded p-6\">\n",
       " <div class=\"relative\">\n",
       " <span aria-hidden=\"true\" class=\"bp-skeleton block undefined\" style=\"width:24px;height:24px\">\n",
       " </span>\n",
       " </div>\n",
       " </div>\n",
       " </button>\n",
       " </li>\n",
       " </ul>\n",
       " </div>,\n",
       " <div class=\"not-prose relative my-0 block overflow-hidden rounded border bg-primary-bg p-16 align-top sm:flex sm:items-center sm:justify-between sm:gap-4 sm:p-24 border-primary-bg\" id=\"study-question-7489\">\n",
       " <ul class=\"relative z-1 hidden sm:flex sm:items-center sm:gap-4\">\n",
       " <button class=\"block transition-opacity text-primary-accent\" title=\"Play audio\">\n",
       " <div class=\"bp-hover-bg__child rounded p-6\">\n",
       " <div class=\"relative\">\n",
       " <span aria-hidden=\"true\" class=\"bp-skeleton block undefined\" style=\"width:24px;height:24px\">\n",
       " </span>\n",
       " </div>\n",
       " </div>\n",
       " </button>\n",
       " </ul>\n",
       " <div class=\"relative z-1 flex flex-grow flex-col items-center justify-center gap-4 text-center\">\n",
       " <p class=\"bp-ddw prose text-large md:text-subtitle\">\n",
       "               あのシャツの\n",
       "               <ruby>\n",
       "                色\n",
       "                <rp>\n",
       "                 (\n",
       "                </rp>\n",
       " <rt>\n",
       "                 いろ\n",
       "                </rt>\n",
       " <rp>\n",
       "                 )\n",
       "                </rp>\n",
       " </ruby>\n",
       "               と\n",
       "               <ruby>\n",
       "                柄\n",
       "                <rp>\n",
       "                 (\n",
       "                </rp>\n",
       " <rt>\n",
       "                 がら\n",
       "                </rt>\n",
       " <rp>\n",
       "                 )\n",
       "                </rp>\n",
       " </ruby>\n",
       "               じゃあ、\n",
       "               <ruby>\n",
       "                包帯\n",
       "                <rp>\n",
       "                 (\n",
       "                </rp>\n",
       " <rt>\n",
       "                 ほうたい\n",
       "                </rt>\n",
       " <rp>\n",
       "                 )\n",
       "                </rp>\n",
       " </ruby>\n",
       "               をしている\n",
       "               <span class=\"study-area-input\">\n",
       " <span class=\"text-primary-accent\">\n",
       "                 かのようです\n",
       "                </span>\n",
       " </span>\n",
       "               ね。\n",
       "              </p>\n",
       " <p class=\"bp-sdw undefined\">\n",
       "               That shirt's color and patterns makes it look\n",
       "               <strong>\n",
       "                as if you are\n",
       "               </strong>\n",
       "               wearing a bandage.\n",
       "              </p>\n",
       " </div>\n",
       " <ul class=\"absolute bottom-0 right-0 z-1 flex items-stretch overflow-hidden rounded-tl text-detail\">\n",
       " <li class=\"block\" title=\"This sentence's translation has been verified.\">\n",
       " <button aria-haspopup=\"dialog\" class=\"flex items-center px-12 text-primary-fg pointer-events-none bg-correct bg-opacity-20 py-4\" disabled=\"\">\n",
       " <span aria-hidden=\"true\" class=\"bp-skeleton block undefined\" style=\"width:1.2em;height:1.2em\">\n",
       " </span>\n",
       " </button>\n",
       " </li>\n",
       " </ul>\n",
       " <div class=\"z-0 absolute -right-16 bottom-24 text-tertiary-fg transition-opacity opacity-0 pointer-events-none\" style=\"transform:rotate(-30deg)\" title=\"This sentence has a Ghost\">\n",
       " <span aria-hidden=\"true\" class=\"bp-skeleton block undefined\" style=\"width:3rem;height:3rem\">\n",
       " </span>\n",
       " </div>\n",
       " <ul class=\"mt-4 flex items-center justify-center gap-4 text-primary-accent sm:hidden\">\n",
       " <button class=\"block transition-opacity text-primary-accent\" title=\"Play audio\">\n",
       " <div class=\"bp-hover-bg__child rounded p-6\">\n",
       " <div class=\"relative\">\n",
       " <span aria-hidden=\"true\" class=\"bp-skeleton block undefined\" style=\"width:24px;height:24px\">\n",
       " </span>\n",
       " </div>\n",
       " </div>\n",
       " </button>\n",
       " <li>\n",
       " <button aria-haspopup=\"menu\" aria-label=\"Launch actions tooltip\" class=\"block\" title=\"Launch actions tooltip\">\n",
       " <div class=\"bp-hover-bg__child rounded p-6\">\n",
       " <div class=\"relative\">\n",
       " <span aria-hidden=\"true\" class=\"bp-skeleton block undefined\" style=\"width:24px;height:24px\">\n",
       " </span>\n",
       " </div>\n",
       " </div>\n",
       " </button>\n",
       " </li>\n",
       " </ul>\n",
       " <ul class=\"relative z-1 hidden text-primary-accent sm:flex sm:items-center sm:gap-4\">\n",
       " <li>\n",
       " <button aria-haspopup=\"menu\" aria-label=\"Launch actions tooltip\" class=\"block\" title=\"Launch actions tooltip\">\n",
       " <div class=\"bp-hover-bg__child rounded p-6\">\n",
       " <div class=\"relative\">\n",
       " <span aria-hidden=\"true\" class=\"bp-skeleton block undefined\" style=\"width:24px;height:24px\">\n",
       " </span>\n",
       " </div>\n",
       " </div>\n",
       " </button>\n",
       " </li>\n",
       " </ul>\n",
       " </div>]"
      ]
     },
     "execution_count": 84,
     "metadata": {},
     "output_type": "execute_result"
    }
   ],
   "source": [
    "example_sentances"
   ]
  },
  {
   "cell_type": "code",
   "execution_count": 96,
   "metadata": {},
   "outputs": [
    {
     "name": "stdout",
     "output_type": "stream",
     "text": [
      "その作品は、あの有名な作品を真似たかのようですね。\n",
      "彼はまるでお腹に風船を入れているかのようだ。\n",
      "あの会社は営業中も休業しているかのようだ。\n",
      "彼は相当目がいい。望遠鏡を使っているかのようだ。\n",
      "あのシャツの色と柄じゃあ、包帯をしているかのようですね。\n"
     ]
    }
   ],
   "source": [
    "for s in example_sentances:\n",
    "    text = s.get_text(strip=True)\n",
    "    japanese_text = re.match(r'^[^A-Za-z]+', text)\n",
    "    print(japanese_text.group())\n",
    "# jp_sentances = [s.get_text(strip=True).split('。',)[0] + '。' for s in example_sentances]"
   ]
  },
  {
   "cell_type": "code",
   "execution_count": 83,
   "metadata": {},
   "outputs": [
    {
     "name": "stdout",
     "output_type": "stream",
     "text": [
      "その作品は、あの有名な作品を真似たかのようですね。\n",
      "彼はまるでお腹に風船を入れているかのようだ。\n",
      "あの会社は営業中も休業しているかのようだ。\n",
      "彼は相当目がいい。\n",
      "あのシャツの色と柄じゃあ、包帯をしているかのようですね。\n"
     ]
    }
   ],
   "source": [
    "for s in jp_sentances:\n",
    "    print(s)"
   ]
  },
  {
   "cell_type": "code",
   "execution_count": 76,
   "metadata": {},
   "outputs": [
    {
     "name": "stdout",
     "output_type": "stream",
     "text": [
      " That item looks as if it is imitating that other famous item. \n",
      " It is just as if he has a balloon in his belly. \n",
      " That company looks as if they are closed even during operation hours. \n",
      " He has extremely good eyesight. It is as if he is using a telescope. \n",
      " That shirt's color and patterns makes it look as if you are wearing a bandage. \n"
     ]
    }
   ],
   "source": [
    "\n",
    "# Current output text\n",
    "english_sentances = []\n",
    "jp_sentances = []\n",
    "for sentance in example_sentances:\n",
    "    sentance = sentance.select_one('p.bp-sdw.undefined').get_text(strip=False).replace('\\n', ' ')\n",
    "    sentance = re.sub(r'\\s+', ' ', sentance)\n",
    "    english_sentances.append(sentance)\n"
   ]
  },
  {
   "cell_type": "code",
   "execution_count": 52,
   "metadata": {},
   "outputs": [
    {
     "name": "stdout",
     "output_type": "stream",
     "text": [
      " It is just as if he has a balloon in his belly. \n"
     ]
    }
   ],
   "source": [
    "# Replace multiple spaces with a single space\n",
    "cleaned_text = re.sub(r'\\s+', ' ', text)\n",
    "print(cleaned_text)"
   ]
  },
  {
   "cell_type": "markdown",
   "metadata": {},
   "source": [
    "### Creating an exmaple entry in a dict. This dict can be passed straight to a JSON proccessing function or into a pandas dataframe for data analysis"
   ]
  },
  {
   "cell_type": "code",
   "execution_count": null,
   "metadata": {},
   "outputs": [],
   "source": [
    "entry_contents = {\n",
    "    \"subject\": soup.find('h1').get_text(strip=True),\n",
    "    \"reading\": determaine_reading(soup),\n",
    "    \"part_of_speech\": determine_pos(soup),\n",
    "    \"definition\": soup.select_one('p.line-clamp-1').get_text(strip=True),\n",
    "    \"explanation\": extract_explination(soup),\n",
    "    \"link\": soup.select_one('head > link[rel=\"canonical\"]')['href']\n",
    "}\n",
    "print(entry_contents)"
   ]
  },
  {
   "cell_type": "code",
   "execution_count": null,
   "metadata": {},
   "outputs": [],
   "source": [
    "# Extract the JLPT level\n",
    "jlpt = JLPT_level(soup)\n",
    "print(jlpt)"
   ]
  },
  {
   "cell_type": "markdown",
   "metadata": {},
   "source": [
    "Build a dataframe from the HTML files. This should be a temporary measure for examining the data. Future extraction flow show go straight from HTML to JSON."
   ]
  },
  {
   "cell_type": "code",
   "execution_count": null,
   "metadata": {},
   "outputs": [],
   "source": [
    "df = pd.DataFrame(entry_contents, index=[0])\n",
    "for page in pages_list:\n",
    "    soup = BeautifulSoup(open(os.path.join(path_to_html, page), 'r', encoding='utf-8'), 'html.parser')\n",
    "    entry_contents = {\n",
    "        \"subject\": remove_latin_chars(soup.find('h1').get_text(strip=True).split(' ')[0]),\n",
    "        \"part_of_speech\": determine_pos(soup),\n",
    "        \"definition\": soup.select_one('p.line-clamp-1').get_text(strip=True),\n",
    "        \"explanation\": extract_explination(soup),\n",
    "        \"JLPT\": JLPT_level(soup)\n",
    "        \n",
    "    }\n",
    "    df = pd.concat([df, pd.DataFrame(entry_contents, index=[0])], ignore_index=True)"
   ]
  },
  {
   "cell_type": "markdown",
   "metadata": {},
   "source": [
    "Having a hard time with getting the readings. Possbily have to hand-write the kanji readings. Function to ID what entires to look at"
   ]
  },
  {
   "cell_type": "code",
   "execution_count": 35,
   "metadata": {},
   "outputs": [],
   "source": [
    "df['contains_kanji'] = df['subject'].apply(contains_kanji)"
   ]
  },
  {
   "cell_type": "code",
   "execution_count": 36,
   "metadata": {},
   "outputs": [],
   "source": [
    "# Function to split the rows based on '・' and duplicate other columns\n",
    "expanded_df = pd.concat(df.apply(split_and_duplicate_rows, axis=1).tolist(), ignore_index=True)\n",
    "expanded_df.shape"
   ]
  },
  {
   "cell_type": "code",
   "execution_count": 93,
   "metadata": {},
   "outputs": [],
   "source": [
    "expanded_df.to_csv('example_extration.csv', index=False)"
   ]
  },
  {
   "cell_type": "markdown",
   "metadata": {},
   "source": [
    "# Inspect dataframe"
   ]
  },
  {
   "cell_type": "code",
   "execution_count": 97,
   "metadata": {},
   "outputs": [],
   "source": [
    "dict = pd.read_csv('bunpro_entries.csv')"
   ]
  },
  {
   "cell_type": "code",
   "execution_count": null,
   "metadata": {},
   "outputs": [],
   "source": [
    "# drop columns with subject = ~\n",
    "dict = dict[dict['subject'] != '~']\n",
    "dict[dict['definition'].duplicated(keep=False)].sort_values('definition')"
   ]
  },
  {
   "cell_type": "markdown",
   "metadata": {},
   "source": [
    "### testing dict class"
   ]
  },
  {
   "cell_type": "code",
   "execution_count": 69,
   "metadata": {},
   "outputs": [],
   "source": [
    "from dictionary_construction.Entry import Dictionary_Entry"
   ]
  },
  {
   "cell_type": "code",
   "execution_count": 70,
   "metadata": {},
   "outputs": [],
   "source": [
    "test = Dictionary_Entry(soup)"
   ]
  },
  {
   "cell_type": "code",
   "execution_count": 71,
   "metadata": {},
   "outputs": [
    {
     "name": "stdout",
     "output_type": "stream",
     "text": [
      "んだ・んです\n"
     ]
    }
   ],
   "source": [
    "print(test.subject)"
   ]
  }
 ],
 "metadata": {
  "kernelspec": {
   "display_name": ".venv",
   "language": "python",
   "name": "python3"
  },
  "language_info": {
   "codemirror_mode": {
    "name": "ipython",
    "version": 3
   },
   "file_extension": ".py",
   "mimetype": "text/x-python",
   "name": "python",
   "nbconvert_exporter": "python",
   "pygments_lexer": "ipython3",
   "version": "3.12.3"
  }
 },
 "nbformat": 4,
 "nbformat_minor": 2
}
